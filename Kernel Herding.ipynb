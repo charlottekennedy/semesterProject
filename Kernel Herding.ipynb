{
 "cells": [
  {
   "cell_type": "code",
   "execution_count": 1,
   "metadata": {},
   "outputs": [],
   "source": [
    "import pandas as pd\n",
    "import numpy as np\n",
    "import random\n",
    "import matplotlib.pyplot as plt\n",
    "import csv\n",
    "from scipy.optimize import fmin, minimize"
   ]
  },
  {
   "cell_type": "code",
   "execution_count": 2,
   "metadata": {},
   "outputs": [
    {
     "name": "stdout",
     "output_type": "stream",
     "text": [
      "    maxSpeed    minGap     accel     decel       y_flow    y_speed   distance\n",
      "0  25.000000  2.500000  2.600000  4.500000  1853.935338  12.747027   0.000000\n",
      "1  21.474007  1.338518  4.533689  5.519486  1783.772727  21.129545  70.661578\n",
      "2  15.154605  4.173119  7.197450  0.605079  1778.685455  14.513182  75.270607\n",
      "3  24.810924  7.453838  9.010386  2.086053  1790.871818  24.017045  64.062632\n",
      "4  40.728587  0.635601  6.904782  6.675052  1810.636364  38.569545  50.414320\n",
      "(100, 7)\n"
     ]
    }
   ],
   "source": [
    "rows = 100\n",
    "df = pd.read_csv('./Data/Highway_V1.csv', nrows = rows)\n",
    "print(df.head())\n",
    "print(df.shape)\n",
    "N = df.shape[0]\n",
    "\n",
    "\n",
    "\n",
    "def write_csv(data_row):\n",
    "    path  = \"kernelABC_NO_vehsPerHour.csv\"\n",
    "    with open(path,'a+') as f:\n",
    "        csv_write = csv.writer(f)\n",
    "        csv_write.writerow(data_row)\n",
    "\n",
    "write_csv([\"maxSpeed\",\"minGap\",\"accel\",\"decel\", \"θ distance\", \"Ɣ**2\", \"ƛ\", \"Σw\"])"
   ]
  },
  {
   "cell_type": "code",
   "execution_count": 3,
   "metadata": {},
   "outputs": [],
   "source": [
    "'''\n",
    "****************\n",
    "Kernel Herding Class\n",
    "****************\n",
    "\n",
    "input: \n",
    "    - lambda: float\n",
    "    - theta : 2D array of parameters\n",
    "    - y     : 2D array of measures   (sensor data)\n",
    "    - y_star: 1D array of measures   (ground truth)\n",
    "    \n",
    "output:\n",
    "    - theta_hat: 1D array of parameters (predicted)\n",
    "    - w        : calculated weight vector\n",
    "'''\n",
    "\n",
    "class kernel_Herding:\n",
    "    def __init__(self, lambda_, theta, y, y_star,gamma, niter):\n",
    "        self.lambda_ = lambda_\n",
    "        self.theta = theta\n",
    "        self.npara = len(self.theta[0])\n",
    "        self.y = y\n",
    "        self.y_star = y_star\n",
    "        self.kernel_mean = self.calc_kernel_mean\n",
    "        self.h = self.calc_kernel_mean\n",
    "        \n",
    "        self.N = len(y)\n",
    "        self.GaMa = gamma\n",
    "        self.G = self.calc_G()\n",
    "        self.I = np.identity(self.N)\n",
    "        self.k_vec = self.calc_k_vector()\n",
    "        \n",
    "        self.niter = niter\n",
    "    \n",
    "    def get_N(self):\n",
    "        return self.N\n",
    "    \n",
    "    def calc_k(self, yi, yj):\n",
    "        #__yi = yi.reshape(yi.shape[0],1)\n",
    "        norm_distance = np.linalg.norm(yi - yj) ** 2\n",
    "        #gramm_value = (yi-yj).T @ (yi-yj)\n",
    "        #__temp = (__yi - __yj).T @ (__yi - __yj)\n",
    "        \n",
    "        # checked with in multiple way of computation\n",
    "        #assert abs(norm_distance - __temp[0][0]) < 1, f'{norm_distance} {__temp}'\n",
    "        #assert abs(gramm_value - __temp[0][0]) < 1, f'{gramm_matrix} {__temp}'\n",
    "        #assert abs(norm_distance - gramm_value) < 1\n",
    "        \n",
    "        k = np.exp( - 1 * norm_distance / self.GaMa )\n",
    "#         assert k > 0.0, f'k is non-positive value {k}, norm_distance {norm_distance}, GaMa {self.GaMa}'\n",
    "        return k\n",
    "        \n",
    "    def calc_Gama(self):\n",
    "        # check that input of Gamma computation is from y_simulator \n",
    "        GaMa_mat = []\n",
    "        for i in range(self.N):\n",
    "            GaMa_row = []\n",
    "            for j in range(self.N):\n",
    "                if j != i:\n",
    "                    GaMa_row.append( (self.y[i] - self.y[j]).T @ (self.y[i] - self.y[j]) )\n",
    "            GaMa_mat.append(GaMa_row)\n",
    "        GaMa_mat = np.array(GaMa_mat)\n",
    "        __Gama_original = np.median(GaMa_mat)\n",
    "        \n",
    "        # double check\n",
    "        distance_matrix = []\n",
    "        for i in range(self.N):\n",
    "            one_row = []\n",
    "            for j in range(self.N):\n",
    "                if j != i:\n",
    "                    __dis = np.linalg.norm(self.y[i] - self.y[j]) ** 2\n",
    "                    one_row.append(__dis)\n",
    "            else:\n",
    "                distance_matrix.append(one_row)\n",
    "        \n",
    "        # end for loop\n",
    "        Gama = np.median(distance_matrix)\n",
    "        \n",
    "        assert abs(Gama - __Gama_original) < 1\n",
    "        print(\"Original Gama: \", __Gama_original)\n",
    "        return __Gama_original\n",
    "\n",
    "        Y_Ystar_norm2 = df.loc[:,'distance']**2\n",
    "        median_Y_Ystar_norm2 = np.median(Y_Ystar_norm2)\n",
    "        print(\"The median of the norm^2 distance: \", median_Y_Ystar_norm2)\n",
    "#         return median_Y_Ystar_norm2\n",
    "        \n",
    "        Y_Ystar_norm2 = df.loc[:,'distance']**2\n",
    "        mean_Y_Ystar_norm2 = np.mean(Y_Ystar_norm2)\n",
    "        print(\"The mean of the norm^2 distance: \", mean_Y_Ystar_norm2)\n",
    "\n",
    "#         return mean_Y_Ystar_norm2\n",
    "\n",
    "    def calc_G(self):\n",
    "        G = np.zeros((self.N, self.N))\n",
    "        for i in range(self.N):\n",
    "            for j in range(self.N):\n",
    "                G[i][j] = self.calc_k(self.y[i], self.y[j])\n",
    "        return G\n",
    "    \n",
    "    def calc_k_vector(self):\n",
    "        k_vec = []  # (99,1)\n",
    "        for i in range(self.N):\n",
    "            # checked input of k is from y_simulator and y_star\n",
    "            out_kernel = self.calc_k( self.y[i], self.y_star )\n",
    "            assert isinstance(out_kernel, float)\n",
    "            k_vec.append( out_kernel )\n",
    "        # k_vec = np.array(k_vec).reshape(-1,1) # list to array\n",
    "#         print(\"k_vec shape: \", k_vec.shape)   # size - 99x1\n",
    "        return k_vec\n",
    "    \n",
    "    def calc_w(self):\n",
    "        assert self.G.shape == (self.N, self.N)\n",
    "        assert self.I.shape == (self.N, self.N) \n",
    "        mat_before_inverse = self.G + self.N * self.lambda_ * self.I\n",
    "        assert mat_before_inverse.shape == (self.N, self.N)\n",
    "        w = np.linalg.inv(mat_before_inverse) @ self.k_vec\n",
    "#         print(\"w shape: \", w.shape) # size - 99x1\n",
    "        assert len(w) == self.N\n",
    "        #print(\"weight sum: \", np.sum(w))\n",
    "        return w\n",
    "    \n",
    "    def calc_theta_hat(self):\n",
    "        self.w = self.calc_w()\n",
    "        \n",
    "        # double check to compute w\n",
    "        check_params = []\n",
    "        for one_param in self.theta.T:\n",
    "            assert len(one_param) == self.N\n",
    "            theta_hat_param = sum([self.w[index] * theta_value for index, theta_value in enumerate(one_param)])\n",
    "            check_params.append(theta_hat_param)\n",
    "        \n",
    "        theta_hat = self.w.T @ self.theta\n",
    "        return theta_hat\n",
    "    \n",
    "    def calc_kernel_mean(self, x):\n",
    "        return sum(self.w*self.calc_k(x, self.theta.flatten()))\n",
    "    \n",
    "    def sample_theta(self):\n",
    "        #bnds = [(0, 20)]*(self.N * self.npara)\n",
    "        self.theta = minimize(lambda x : -self.h(x), np.ones((self.N, self.npara)).flatten()).x #bounds = bnds\n",
    "        h = self.h\n",
    "        self.h = lambda y : h(y) + self.kernel_mean(y) - (lambda x:self.calc_k(x, self.theta.flatten()))(y)\n",
    "        return self.theta\n",
    "                   \n",
    "    def main(self):\n",
    "        self.w = self.calc_w()\n",
    "        self.kernel_mean = self.calc_kernel_mean\n",
    "        for i in range(self.niter):\n",
    "            self.theta = self.sample_theta()\n",
    "        return self.theta.reshape(self.N, self.npara)\n",
    "                   \n",
    "        "
   ]
  },
  {
   "cell_type": "code",
   "execution_count": null,
   "metadata": {},
   "outputs": [],
   "source": [
    "# Get measurement: Y\n",
    "y_flow = np.array(df.loc[:,'y_flow']).reshape(N,1)\n",
    "y_speed = np.array(df.loc[:,'y_speed']).reshape(N,1)\n",
    "y = np.concatenate((y_flow, y_speed), axis=1)\n",
    "\n",
    "# Get param: Theta\n",
    "maxSpeed = np.array(df.loc[:,'maxSpeed']).reshape(N,1)\n",
    "minGap = np.array(df.loc[:,'minGap']).reshape(N,1)\n",
    "accel = np.array(df.loc[:,'accel']).reshape(N,1)\n",
    "decel = np.array(df.loc[:,'decel']).reshape(N,1)\n",
    "theta = np.concatenate((maxSpeed, minGap, accel, decel), axis=1)\n",
    "theta_star = theta[0]\n",
    "theta_sensor = theta[1:]\n",
    "\n",
    "        \n",
    "kernelH = kernel_Herding(lambda_ = 0.01, theta = theta_sensor, y = y[1:], y_star = y[0], gamma = 100000, niter = 20)\n",
    "theta = kernelH.main()\n",
    "print('theta: {}'.format(theta))\n",
    "\n"
   ]
  },
  {
   "cell_type": "code",
   "execution_count": 10,
   "metadata": {},
   "outputs": [
    {
     "name": "stdout",
     "output_type": "stream",
     "text": [
      "mean : [1. 1. 1. 1.]\n",
      "std : [0. 0. 0. 0.]\n"
     ]
    }
   ],
   "source": [
    "mean_theta = np.mean(theta, axis = 0)\n",
    "std_theta = np.std(theta, axis = 0)\n",
    "print('mean : {}'.format(mean_theta))\n",
    "print('std : {}'.format(std_theta))"
   ]
  },
  {
   "cell_type": "code",
   "execution_count": 7,
   "metadata": {},
   "outputs": [
    {
     "name": "stdout",
     "output_type": "stream",
     "text": [
      "[25.   2.5  2.6  4.5]\n"
     ]
    }
   ],
   "source": [
    "print(theta_star)"
   ]
  },
  {
   "cell_type": "code",
   "execution_count": 8,
   "metadata": {},
   "outputs": [
    {
     "data": {
      "text/plain": [
       "(array([ 0.,  0.,  0.,  0.,  0.,  0.,  0.,  0.,  0.,  0., 99.,  0.,  0.,\n",
       "         0.,  0.,  0.,  0.,  0.,  0.,  0.]),\n",
       " array([0.5 , 0.55, 0.6 , 0.65, 0.7 , 0.75, 0.8 , 0.85, 0.9 , 0.95, 1.  ,\n",
       "        1.05, 1.1 , 1.15, 1.2 , 1.25, 1.3 , 1.35, 1.4 , 1.45, 1.5 ]),\n",
       " <BarContainer object of 20 artists>)"
      ]
     },
     "execution_count": 8,
     "metadata": {},
     "output_type": "execute_result"
    },
    {
     "data": {
      "image/png": "[encoded data removed]",
      "text/plain": [
       "<Figure size 432x288 with 1 Axes>"
      ]
     },
     "metadata": {
      "needs_background": "light"
     },
     "output_type": "display_data"
    }
   ],
   "source": [
    "plt.hist(theta[:,1], bins=20)"
   ]
  },
  {
   "cell_type": "code",
   "execution_count": null,
   "metadata": {},
   "outputs": [],
   "source": []
  }
 ],
 "metadata": {
  "kernelspec": {
   "display_name": "Python 3",
   "language": "python",
   "name": "python3"
  },
  "language_info": {
   "codemirror_mode": {
    "name": "ipython",
    "version": 3
   },
   "file_extension": ".py",
   "mimetype": "text/x-python",
   "name": "python",
   "nbconvert_exporter": "python",
   "pygments_lexer": "ipython3",
   "version": "3.8.2"
  }
 },
 "nbformat": 4,
 "nbformat_minor": 4
}
