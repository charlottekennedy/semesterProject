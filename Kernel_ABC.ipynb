{
 "cells": [
  {
   "cell_type": "code",
   "execution_count": 15,
   "metadata": {},
   "outputs": [],
   "source": [
    "import pandas as pd\n",
    "import numpy as np\n",
    "import random\n",
    "import matplotlib.pyplot as plt\n",
    "import csv"
   ]
  },
  {
   "cell_type": "code",
   "execution_count": 36,
   "metadata": {},
   "outputs": [
    {
     "name": "stdout",
     "output_type": "stream",
     "text": [
      "    maxSpeed    minGap     accel     decel       y_flow    y_speed   distance\n",
      "0  25.000000  2.500000  2.600000  4.500000  1853.935338  12.747027   0.000000\n",
      "1  21.474007  1.338518  4.533689  5.519486  1783.772727  21.129545  70.661578\n",
      "2  15.154605  4.173119  7.197450  0.605079  1778.685455  14.513182  75.270607\n",
      "3  24.810924  7.453838  9.010386  2.086053  1790.871818  24.017045  64.062632\n",
      "4  40.728587  0.635601  6.904782  6.675052  1810.636364  38.569545  50.414320\n",
      "(100, 7)\n"
     ]
    }
   ],
   "source": [
    "df = pd.read_csv('./Data/Highway_V1.csv', nrows=100)\n",
    "print(df.head())\n",
    "print(df.shape)\n",
    "N = df.shape[0]\n",
    "\n",
    "def write_csv(data_row):\n",
    "    path  = \"kernelABC_NO_vehsPerHour.csv\"\n",
    "    with open(path,'a+') as f:\n",
    "        csv_write = csv.writer(f)\n",
    "        csv_write.writerow(data_row)\n",
    "\n",
    "write_csv([\"maxSpeed\",\"minGap\",\"accel\",\"decel\", \"θ distance\", \"Ɣ**2\", \"ƛ\", \"Σw\"])"
   ]
  },
  {
   "cell_type": "code",
   "execution_count": 37,
   "metadata": {},
   "outputs": [
    {
     "name": "stdout",
     "output_type": "stream",
     "text": [
      "y_star:  [1853.93533784   12.74702703]\n",
      "y_sensor[0]:  [1783.77272727   21.12954545]\n",
      "y_sensor shpe:  (99, 2)\n",
      "\n",
      "theta_star:  [25.   2.5  2.6  4.5]\n",
      "theta_sensor[0]:  [21.47400713  1.338518    4.53368855  5.51948633]\n",
      "theta_sensor shape:  (99, 4)\n"
     ]
    }
   ],
   "source": [
    "# **********\n",
    "# Read CSV data\n",
    "# **********\n",
    "\n",
    "# Get measurement: Y\n",
    "y_flow = np.array(df.loc[:,'y_flow']).reshape(N,1)\n",
    "y_speed = np.array(df.loc[:,'y_speed']).reshape(N,1)\n",
    "y = np.concatenate((y_flow, y_speed), axis=1)\n",
    "\n",
    "y_star = y[0]\n",
    "y_sensor = y[1:]\n",
    "print(\"y_star: \", y_star)\n",
    "print(\"y_sensor[0]: \", y_sensor[0])\n",
    "print(\"y_sensor shpe: \", y_sensor.shape)\n",
    "\n",
    "\n",
    "# Get param: Theta\n",
    "maxSpeed = np.array(df.loc[:,'maxSpeed']).reshape(N,1)\n",
    "minGap = np.array(df.loc[:,'minGap']).reshape(N,1)\n",
    "accel = np.array(df.loc[:,'accel']).reshape(N,1)\n",
    "decel = np.array(df.loc[:,'decel']).reshape(N,1)\n",
    "theta = np.concatenate((maxSpeed, minGap, accel, decel), axis=1)\n",
    "# theta = np.concatenate((minGap, accel, decel), axis=1)\n",
    "\n",
    "\n",
    "theta_star = theta[0]\n",
    "theta_sensor = theta[1:]\n",
    "\n",
    "print(\"\")\n",
    "print(\"theta_star: \", theta_star)\n",
    "print(\"theta_sensor[0]: \", theta_sensor[0])\n",
    "print(\"theta_sensor shape: \", theta_sensor.shape)\n",
    "\n",
    "write_csv(theta_star)"
   ]
  },
  {
   "cell_type": "code",
   "execution_count": 38,
   "metadata": {},
   "outputs": [
    {
     "name": "stdout",
     "output_type": "stream",
     "text": [
      "********************\n",
      "weight sum:  0.9198249826631426\n",
      "theta_hat:  [31.59340745  4.18187583  4.95435264  5.56438402]\n",
      "theta_star: [25.   2.5  2.6  4.5]\n"
     ]
    }
   ],
   "source": [
    "'''\n",
    "****************\n",
    "Kernel ABC Class\n",
    "****************\n",
    "\n",
    "input: \n",
    "    - lambda: float\n",
    "    - theta : 2D array of parameters\n",
    "    - y     : 2D array of measures   (sensor data)\n",
    "    - y_star: 1D array of measures   (ground truth)\n",
    "    \n",
    "output:\n",
    "    - theta_hat: 1D array of parameters (predicted)\n",
    "    - w        : calculated weight vector\n",
    "'''\n",
    "\n",
    "class kernel_ABC:\n",
    "    def __init__(self, lambda_, gamma, theta, y, y_star):\n",
    "        self.lambda_ = lambda_\n",
    "        self.theta = theta\n",
    "        self.y = y\n",
    "        self.y_star = y_star\n",
    "        \n",
    "        self.N = len(y)\n",
    "        self.GaMa = gamma\n",
    "        self.G = self.calc_G()\n",
    "        self.I = np.identity(self.N)\n",
    "        self.k_vec = self.calc_k_vector()\n",
    "    \n",
    "    def get_N(self):\n",
    "        return self.N\n",
    "    \n",
    "    def calc_k(self, yi, yj):\n",
    "        __yi = yi.reshape(yi.shape[0],1)\n",
    "        __yj = yj.reshape(yj.shape[0],1)\n",
    "        norm_distance = np.linalg.norm(yi - yj) ** 2\n",
    "        gramm_value = (yi-yj).T @ (yi-yj)\n",
    "        __temp = (__yi - __yj).T @ (__yi - __yj)\n",
    "        \n",
    "        # checked with in multiple way of computation\n",
    "        assert abs(norm_distance - __temp[0][0]) < 1, f'{norm_distance} {__temp}'\n",
    "        assert abs(gramm_value - __temp[0][0]) < 1, f'{gramm_matrix} {__temp}'\n",
    "        assert abs(norm_distance - gramm_value) < 1\n",
    "        \n",
    "        k = np.exp( - 1 * norm_distance / self.GaMa )\n",
    "#         assert k > 0.0, f'k is non-positive value {k}, norm_distance {norm_distance}, GaMa {self.GaMa}'\n",
    "        return k\n",
    "        \n",
    "    def calc_Gama(self):\n",
    "        # check that input of Gamma computation is from y_simulator \n",
    "        GaMa_mat = []\n",
    "        for i in range(self.N):\n",
    "            GaMa_row = []\n",
    "            for j in range(self.N):\n",
    "                if j != i:\n",
    "                    GaMa_row.append( (self.y[i] - self.y[j]).T @ (self.y[i] - self.y[j]) )\n",
    "            GaMa_mat.append(GaMa_row)\n",
    "        GaMa_mat = np.array(GaMa_mat)\n",
    "        __Gama_original = np.median(GaMa_mat)\n",
    "        \n",
    "        # double check\n",
    "        distance_matrix = []\n",
    "        for i in range(self.N):\n",
    "            one_row = []\n",
    "            for j in range(self.N):\n",
    "                if j != i:\n",
    "                    __dis = np.linalg.norm(self.y[i] - self.y[j]) ** 2\n",
    "                    one_row.append(__dis)\n",
    "            else:\n",
    "                distance_matrix.append(one_row)\n",
    "        \n",
    "        # end for loop\n",
    "        Gama = np.median(distance_matrix)\n",
    "        \n",
    "        assert abs(Gama - __Gama_original) < 1\n",
    "        print(\"Original Gama: \", __Gama_original)\n",
    "        return __Gama_original\n",
    "\n",
    "        Y_Ystar_norm2 = df.loc[:,'distance']**2\n",
    "        median_Y_Ystar_norm2 = np.median(Y_Ystar_norm2)\n",
    "        print(\"The median of the norm^2 distance: \", median_Y_Ystar_norm2)\n",
    "#         return median_Y_Ystar_norm2\n",
    "        \n",
    "        Y_Ystar_norm2 = df.loc[:,'distance']**2\n",
    "        mean_Y_Ystar_norm2 = np.mean(Y_Ystar_norm2)\n",
    "        print(\"The mean of the norm^2 distance: \", mean_Y_Ystar_norm2)\n",
    "\n",
    "#         return mean_Y_Ystar_norm2\n",
    "\n",
    "    def calc_G(self):\n",
    "        G = np.zeros((self.N, self.N))\n",
    "        for i in range(self.N):\n",
    "            for j in range(self.N):\n",
    "                G[i][j] = self.calc_k(self.y[i], self.y[j])\n",
    "        return G\n",
    "    \n",
    "    def calc_k_vector(self):\n",
    "        k_vec = []  # (99,1)\n",
    "        for i in range(self.N):\n",
    "            # checked input of k is from y_simulator and y_star\n",
    "            out_kernel = self.calc_k( self.y[i], self.y_star )\n",
    "            assert isinstance(out_kernel, float)\n",
    "            k_vec.append( out_kernel )\n",
    "        # k_vec = np.array(k_vec).reshape(-1,1) # list to array\n",
    "#         print(\"k_vec shape: \", k_vec.shape)   # size - 99x1\n",
    "        return k_vec\n",
    "    \n",
    "    def calc_w(self):\n",
    "        assert self.G.shape == (self.N, self.N)\n",
    "        assert self.I.shape == (self.N, self.N) \n",
    "        mat_before_inverse = self.G + self.N * self.lambda_ * self.I\n",
    "        assert mat_before_inverse.shape == (self.N, self.N)\n",
    "        w = np.linalg.inv(mat_before_inverse) @ self.k_vec\n",
    "#         print(\"w shape: \", w.shape) # size - 99x1\n",
    "        assert len(w) == self.N\n",
    "        print(\"weight sum: \", np.sum(w))\n",
    "        return w\n",
    "    \n",
    "    def calc_theta_hat(self):\n",
    "        self.w = self.calc_w()\n",
    "        \n",
    "        # double check to compute w\n",
    "        check_params = []\n",
    "        for one_param in self.theta.T:\n",
    "            assert len(one_param) == self.N\n",
    "            theta_hat_param = sum([self.w[index] * theta_value for index, theta_value in enumerate(one_param)])\n",
    "            check_params.append(theta_hat_param)\n",
    "        \n",
    "        theta_hat = self.w.T @ self.theta\n",
    "        return theta_hat\n",
    "\n",
    "## Testing the Class ##\n",
    "lambda_param = 0.01\n",
    "gamma = 100000\n",
    "kernelABC = kernel_ABC(lambda_ = lambda_param, gamma = gamma, theta = theta_sensor, y = y_sensor, y_star = y_star)\n",
    "print(\"********************\")\n",
    "my_theta_hat = kernelABC.calc_theta_hat()\n",
    "print(\"theta_hat: \", my_theta_hat)\n",
    "print(\"theta_star:\", theta_star)\n",
    "\n",
    "\n",
    "# Only uncomment if you want to summarize EVERYTHING into a single value\n",
    "# WARNING: this gives close to no insight on the actual performance of your model!\n",
    "theta_distance = np.linalg.norm(theta_star - my_theta_hat)\n",
    "# print(\"theta distance: \", theta_distance)\n",
    "\n",
    "## Print to CSV ##\n",
    "result_row = [my_theta_hat[0], my_theta_hat[1], my_theta_hat[2], my_theta_hat[3], theta_distance, kernelABC.GaMa, lambda_param, np.sum(kernelABC.w)]\n",
    "write_csv(result_row)"
   ]
  },
  {
   "cell_type": "code",
   "execution_count": 39,
   "metadata": {},
   "outputs": [
    {
     "name": "stdout",
     "output_type": "stream",
     "text": [
      "\n",
      "y_star:  [1853.93533784   12.74702703]\n",
      "y_sensor[0]:  [1783.77272727   21.12954545]\n",
      "y_sensor[0]-y_star:  [-70.16261057   8.38251843]\n",
      "||y_sensor[0]-y_star||^2:  4993.058536499013\n",
      "k(y1,y*):  5.220618458058683e-09\n"
     ]
    }
   ],
   "source": [
    "# print(kernelABC.k_vec[:3])\n",
    "# print(kernelABC.get_N())\n",
    "\n",
    "\n",
    "## Checking if my calc_k() is correct\n",
    "print(\"\")\n",
    "print(\"y_star: \", y_star)\n",
    "print(\"y_sensor[0]: \", y_sensor[0])\n",
    "print(\"y_sensor[0]-y_star: \", y_sensor[0]-y_star)\n",
    "print(\"||y_sensor[0]-y_star||^2: \", (y_sensor[0]-y_star).T@(y_sensor[0]-y_star))\n",
    "print(\"k(y1,y*): \", np.exp( -855.9877918589245 / 44.885087477174366))"
   ]
  },
  {
   "cell_type": "code",
   "execution_count": null,
   "metadata": {},
   "outputs": [],
   "source": []
  },
  {
   "cell_type": "code",
   "execution_count": 40,
   "metadata": {},
   "outputs": [
    {
     "data": {
      "image/png": "[encoded data removed]",
      "text/plain": [
       "<Figure size 432x288 with 1 Axes>"
      ]
     },
     "metadata": {
      "needs_background": "light"
     },
     "output_type": "display_data"
    }
   ],
   "source": [
    "pd.DataFrame({'w': kernelABC.w}).hist(bins=10)\n",
    "plt.show()"
   ]
  },
  {
   "cell_type": "code",
   "execution_count": 41,
   "metadata": {},
   "outputs": [
    {
     "name": "stdout",
     "output_type": "stream",
     "text": [
      "maxSpeed ground-truth:25.0 mean:25.81613028413045 median:25.756666374076428 var:10.559712164672703\n"
     ]
    },
    {
     "data": {
      "image/png": "[encoded data removed]",
      "text/plain": [
       "<Figure size 432x288 with 1 Axes>"
      ]
     },
     "metadata": {
      "needs_background": "light"
     },
     "output_type": "display_data"
    },
    {
     "data": {
      "image/png": "[encoded data removed]",
      "text/plain": [
       "<Figure size 432x288 with 1 Axes>"
      ]
     },
     "metadata": {
      "needs_background": "light"
     },
     "output_type": "display_data"
    }
   ],
   "source": [
    "from statistics import mean, median, stdev\n",
    "target_col = 'maxSpeed'\n",
    "print(f'{target_col} ground-truth:{theta_star[0]} mean:{mean(df[target_col][1:])} median:{median(df[target_col][1:])} var:{stdev(df[target_col][1:])}')\n",
    "df[target_col][1:].hist(bins=20, label='maxSpeed hist')\n",
    "plt.legend()\n",
    "plt.show()\n",
    "df[target_col][1:].hist(bins=20, weights=kernelABC.w, label='weighted maxSpeed hist', density=True)\n",
    "plt.legend()\n",
    "plt.show()"
   ]
  },
  {
   "cell_type": "code",
   "execution_count": 42,
   "metadata": {},
   "outputs": [
    {
     "name": "stdout",
     "output_type": "stream",
     "text": [
      "minGap ground-truth:2.5 mean:4.604437605191697 median:4.387664100240587 var:2.669915887875759\n"
     ]
    },
    {
     "data": {
      "image/png": "[encoded data removed]",
      "text/plain": [
       "<Figure size 432x288 with 1 Axes>"
      ]
     },
     "metadata": {
      "needs_background": "light"
     },
     "output_type": "display_data"
    },
    {
     "data": {
      "image/png": "[encoded data removed]",
      "text/plain": [
       "<Figure size 432x288 with 1 Axes>"
      ]
     },
     "metadata": {
      "needs_background": "light"
     },
     "output_type": "display_data"
    }
   ],
   "source": [
    "from statistics import mean, median, stdev\n",
    "target_col = 'minGap'\n",
    "print(f'{target_col} ground-truth:{theta_star[1]} mean:{mean(df[target_col][1:])} median:{median(df[target_col][1:])} var:{stdev(df[target_col][1:])}')\n",
    "df[target_col][1:].hist(bins=20, label='minGap hist')\n",
    "plt.legend()\n",
    "plt.show()\n",
    "df[target_col][1:].hist(bins=20, weights=kernelABC.w, label='weighted minGap hist', density=True)\n",
    "plt.legend()\n",
    "plt.show()"
   ]
  },
  {
   "cell_type": "code",
   "execution_count": 43,
   "metadata": {},
   "outputs": [
    {
     "name": "stdout",
     "output_type": "stream",
     "text": [
      "accel ground-truth:2.6 mean:5.553294619266452 median:5.972843740591108 var:2.877422946654236\n"
     ]
    },
    {
     "data": {
      "image/png": "[encoded data removed]",
      "text/plain": [
       "<Figure size 432x288 with 1 Axes>"
      ]
     },
     "metadata": {
      "needs_background": "light"
     },
     "output_type": "display_data"
    },
    {
     "data": {
      "image/png": "[encoded data removed]",
      "text/plain": [
       "<Figure size 432x288 with 1 Axes>"
      ]
     },
     "metadata": {
      "needs_background": "light"
     },
     "output_type": "display_data"
    }
   ],
   "source": [
    "from statistics import mean, median, stdev\n",
    "target_col = 'accel'\n",
    "print(f'{target_col} ground-truth:{theta_star[2]} mean:{mean(df[target_col][1:])} median:{median(df[target_col][1:])} var:{stdev(df[target_col][1:])}')\n",
    "df[target_col][1:].hist(bins=20, label='accel hist')\n",
    "plt.legend()\n",
    "plt.show()\n",
    "df[target_col][1:].hist(bins=20, weights=kernelABC.w, label='weighted accel hist', density=True)\n",
    "plt.legend()\n",
    "plt.show()"
   ]
  },
  {
   "cell_type": "code",
   "execution_count": 44,
   "metadata": {},
   "outputs": [
    {
     "name": "stdout",
     "output_type": "stream",
     "text": [
      "decel ground-truth:4.5 mean:5.383695930559806 median:6.112998896391888 var:2.6484182444738744\n"
     ]
    },
    {
     "data": {
      "image/png": "[encoded data removed]",
      "text/plain": [
       "<Figure size 432x288 with 1 Axes>"
      ]
     },
     "metadata": {
      "needs_background": "light"
     },
     "output_type": "display_data"
    },
    {
     "data": {
      "image/png": "[encoded data removed]",
      "text/plain": [
       "<Figure size 432x288 with 1 Axes>"
      ]
     },
     "metadata": {
      "needs_background": "light"
     },
     "output_type": "display_data"
    }
   ],
   "source": [
    "from statistics import mean, median, stdev\n",
    "target_col = 'decel'\n",
    "print(f'{target_col} ground-truth:{theta_star[3]} mean:{mean(df[target_col][1:])} median:{median(df[target_col][1:])} var:{stdev(df[target_col][1:])}')\n",
    "df[target_col][1:].hist(bins=20, label='decel hist')\n",
    "plt.legend()\n",
    "plt.show()\n",
    "df[target_col][1:].hist(bins=20, weights=kernelABC.w, label='weighted decel hist', density=True)\n",
    "plt.legend()\n",
    "plt.show()"
   ]
  },
  {
   "cell_type": "code",
   "execution_count": 45,
   "metadata": {},
   "outputs": [
    {
     "name": "stdout",
     "output_type": "stream",
     "text": [
      "The median of the norm^2 distance:  4404.306059600427\n"
     ]
    }
   ],
   "source": [
    "mean_Y_Ystar_distance = df.loc[:,'distance']**2\n",
    "print(\"The median of the norm^2 distance: \", np.median(mean_Y_Ystar_distance))"
   ]
  },
  {
   "cell_type": "code",
   "execution_count": null,
   "metadata": {},
   "outputs": [],
   "source": []
  },
  {
   "cell_type": "code",
   "execution_count": null,
   "metadata": {},
   "outputs": [],
   "source": []
  },
  {
   "cell_type": "code",
   "execution_count": null,
   "metadata": {},
   "outputs": [],
   "source": []
  }
 ],
 "metadata": {
  "kernelspec": {
   "display_name": "Python 3",
   "language": "python",
   "name": "python3"
  },
  "language_info": {
   "codemirror_mode": {
    "name": "ipython",
    "version": 3
   },
   "file_extension": ".py",
   "mimetype": "text/x-python",
   "name": "python",
   "nbconvert_exporter": "python",
   "pygments_lexer": "ipython3",
   "version": "3.8.2"
  }
 },
 "nbformat": 4,
 "nbformat_minor": 4
}
