{
 "cells": [
  {
   "cell_type": "code",
   "execution_count": 55,
   "metadata": {},
   "outputs": [],
   "source": [
    "import pandas as pd\n",
    "import numpy as np\n",
    "import random\n",
    "import matplotlib.pyplot as plt\n",
    "import csv"
   ]
  },
  {
   "cell_type": "code",
   "execution_count": 56,
   "metadata": {},
   "outputs": [
    {
     "name": "stdout",
     "output_type": "stream",
     "text": [
      "    maxSpeed    minGap     accel     decel       y_flow    y_speed   distance\n",
      "0  25.000000  2.500000  2.600000  4.500000  1853.935338  12.747027   0.000000\n",
      "1  21.474007  1.338518  4.533689  5.519486  1783.772727  21.129545  70.661578\n",
      "2  15.154605  4.173119  7.197450  0.605079  1778.685455  14.513182  75.270607\n",
      "3  24.810924  7.453838  9.010386  2.086053  1790.871818  24.017045  64.062632\n",
      "4  40.728587  0.635601  6.904782  6.675052  1810.636364  38.569545  50.414320\n",
      "(10, 7)\n"
     ]
    }
   ],
   "source": [
    "rows = 10\n",
    "df = pd.read_csv('./Data/Highway_V1.csv', nrows = rows)\n",
    "print(df.head())\n",
    "print(df.shape)\n",
    "N = df.shape[0]\n",
    "\n",
    "\n",
    "\n",
    "def write_csv(data_row):\n",
    "    path  = \"kernelABC_NO_vehsPerHour.csv\"\n",
    "    with open(path,'a+') as f:\n",
    "        csv_write = csv.writer(f)\n",
    "        csv_write.writerow(data_row)\n",
    "\n",
    "write_csv([\"maxSpeed\",\"minGap\",\"accel\",\"decel\", \"θ distance\", \"Ɣ**2\", \"ƛ\", \"Σw\"])"
   ]
  },
  {
   "cell_type": "code",
   "execution_count": 57,
   "metadata": {},
   "outputs": [
    {
     "name": "stdout",
     "output_type": "stream",
     "text": [
      "(10, 2)\n",
      "(10, 4)\n"
     ]
    }
   ],
   "source": [
    "# Get measurement: Y\n",
    "y_flow = np.array(df.loc[:,'y_flow']).reshape(N,1)\n",
    "y_speed = np.array(df.loc[:,'y_speed']).reshape(N,1)\n",
    "y = np.concatenate((y_flow, y_speed), axis=1)\n",
    "print(y.shape)\n",
    "\n",
    "# Get param: Theta\n",
    "maxSpeed = np.array(df.loc[:,'maxSpeed']).reshape(N,1)\n",
    "minGap = np.array(df.loc[:,'minGap']).reshape(N,1)\n",
    "accel = np.array(df.loc[:,'accel']).reshape(N,1)\n",
    "decel = np.array(df.loc[:,'decel']).reshape(N,1)\n",
    "theta = np.concatenate((maxSpeed, minGap, accel, decel), axis=1)\n",
    "print(theta.shape)\n",
    "def cross_validation(lambda_, gamma): \n",
    "    distances =[]\n",
    "    for i in range(N):\n",
    "        y_star = y[i]\n",
    "        y_c = y.copy()\n",
    "        y_sensor = np.delete(y_c, i, axis=0)\n",
    "\n",
    "        theta_star = theta[i]\n",
    "        theta_c = theta.copy()\n",
    "        theta_sensor = np.delete(theta_c, i, axis=0)\n",
    "        \n",
    "        kernelABC = kernel_ABC(lambda_ = lambda_, theta = theta_sensor, y = y_sensor, y_star = y_star, gamma = gamma)\n",
    "        my_theta_hat = kernelABC.calc_theta_hat()\n",
    "        distances.append(np.linalg.norm(theta_star - my_theta_hat))\n",
    "    theta_distance = np.mean(distances)\n",
    "    return theta_distance\n",
    "\n"
   ]
  },
  {
   "cell_type": "code",
   "execution_count": 58,
   "metadata": {},
   "outputs": [],
   "source": [
    "'''\n",
    "****************\n",
    "Kernel ABC Class\n",
    "****************\n",
    "\n",
    "input: \n",
    "    - lambda: float\n",
    "    - theta : 2D array of parameters\n",
    "    - y     : 2D array of measures   (sensor data)\n",
    "    - y_star: 1D array of measures   (ground truth)\n",
    "    \n",
    "output:\n",
    "    - theta_hat: 1D array of parameters (predicted)\n",
    "    - w        : calculated weight vector\n",
    "'''\n",
    "\n",
    "class kernel_ABC:\n",
    "    def __init__(self, lambda_, theta, y, y_star,gamma):\n",
    "        self.lambda_ = lambda_\n",
    "        self.theta = theta\n",
    "        self.y = y\n",
    "        self.y_star = y_star\n",
    "        \n",
    "        self.N = len(y)\n",
    "        self.GaMa = gamma\n",
    "        self.G = self.calc_G()\n",
    "        self.I = np.identity(self.N)\n",
    "        self.k_vec = self.calc_k_vector()\n",
    "    \n",
    "    def get_N(self):\n",
    "        return self.N\n",
    "    \n",
    "    def calc_k(self, yi, yj):\n",
    "        __yi = yi.reshape(yi.shape[0],1)\n",
    "        __yj = yj.reshape(yj.shape[0],1)\n",
    "        norm_distance = np.linalg.norm(yi - yj) ** 2\n",
    "        gramm_value = (yi-yj).T @ (yi-yj)\n",
    "        __temp = (__yi - __yj).T @ (__yi - __yj)\n",
    "        \n",
    "        # checked with in multiple way of computation\n",
    "        assert abs(norm_distance - __temp[0][0]) < 1, f'{norm_distance} {__temp}'\n",
    "        assert abs(gramm_value - __temp[0][0]) < 1, f'{gramm_matrix} {__temp}'\n",
    "        assert abs(norm_distance - gramm_value) < 1\n",
    "        \n",
    "        k = np.exp( - 1 * norm_distance / self.GaMa )\n",
    "#         assert k > 0.0, f'k is non-positive value {k}, norm_distance {norm_distance}, GaMa {self.GaMa}'\n",
    "        return k\n",
    "        \n",
    "    def calc_Gama(self):\n",
    "        # check that input of Gamma computation is from y_simulator \n",
    "        GaMa_mat = []\n",
    "        for i in range(self.N):\n",
    "            GaMa_row = []\n",
    "            for j in range(self.N):\n",
    "                if j != i:\n",
    "                    GaMa_row.append( (self.y[i] - self.y[j]).T @ (self.y[i] - self.y[j]) )\n",
    "            GaMa_mat.append(GaMa_row)\n",
    "        GaMa_mat = np.array(GaMa_mat)\n",
    "        __Gama_original = np.median(GaMa_mat)\n",
    "        \n",
    "        # double check\n",
    "        distance_matrix = []\n",
    "        for i in range(self.N):\n",
    "            one_row = []\n",
    "            for j in range(self.N):\n",
    "                if j != i:\n",
    "                    __dis = np.linalg.norm(self.y[i] - self.y[j]) ** 2\n",
    "                    one_row.append(__dis)\n",
    "            else:\n",
    "                distance_matrix.append(one_row)\n",
    "        \n",
    "        # end for loop\n",
    "        Gama = np.median(distance_matrix)\n",
    "        \n",
    "        assert abs(Gama - __Gama_original) < 1\n",
    "        print(\"Original Gama: \", __Gama_original)\n",
    "        return __Gama_original\n",
    "\n",
    "        Y_Ystar_norm2 = df.loc[:,'distance']**2\n",
    "        median_Y_Ystar_norm2 = np.median(Y_Ystar_norm2)\n",
    "        print(\"The median of the norm^2 distance: \", median_Y_Ystar_norm2)\n",
    "#         return median_Y_Ystar_norm2\n",
    "        \n",
    "        Y_Ystar_norm2 = df.loc[:,'distance']**2\n",
    "        mean_Y_Ystar_norm2 = np.mean(Y_Ystar_norm2)\n",
    "        print(\"The mean of the norm^2 distance: \", mean_Y_Ystar_norm2)\n",
    "\n",
    "#         return mean_Y_Ystar_norm2\n",
    "\n",
    "    def calc_G(self):\n",
    "        G = np.zeros((self.N, self.N))\n",
    "        for i in range(self.N):\n",
    "            for j in range(self.N):\n",
    "                G[i][j] = self.calc_k(self.y[i], self.y[j])\n",
    "        return G\n",
    "    \n",
    "    def calc_k_vector(self):\n",
    "        k_vec = []  # (99,1)\n",
    "        for i in range(self.N):\n",
    "            # checked input of k is from y_simulator and y_star\n",
    "            out_kernel = self.calc_k( self.y[i], self.y_star )\n",
    "            assert isinstance(out_kernel, float)\n",
    "            k_vec.append( out_kernel )\n",
    "        # k_vec = np.array(k_vec).reshape(-1,1) # list to array\n",
    "#         print(\"k_vec shape: \", k_vec.shape)   # size - 99x1\n",
    "        return k_vec\n",
    "    \n",
    "    def calc_w(self):\n",
    "        assert self.G.shape == (self.N, self.N)\n",
    "        assert self.I.shape == (self.N, self.N) \n",
    "        mat_before_inverse = self.G + self.N * self.lambda_ * self.I\n",
    "        assert mat_before_inverse.shape == (self.N, self.N)\n",
    "        w = np.linalg.inv(mat_before_inverse) @ self.k_vec\n",
    "#         print(\"w shape: \", w.shape) # size - 99x1\n",
    "        assert len(w) == self.N\n",
    "        #print(\"weight sum: \", np.sum(w))\n",
    "        return w\n",
    "    \n",
    "    def calc_theta_hat(self):\n",
    "        self.w = self.calc_w()\n",
    "        \n",
    "        # double check to compute w\n",
    "        check_params = []\n",
    "        for one_param in self.theta.T:\n",
    "            assert len(one_param) == self.N\n",
    "            theta_hat_param = sum([self.w[index] * theta_value for index, theta_value in enumerate(one_param)])\n",
    "            check_params.append(theta_hat_param)\n",
    "        \n",
    "        theta_hat = self.w.T @ self.theta\n",
    "        return theta_hat\n",
    "\n",
    "## Testing the Class ##\n",
    "#lambda_param = 0.20\n",
    "#gama = 1000000\n",
    "#kernelABC = kernel_ABC(lambda_ = lambda_param, theta = theta_sensor, y = y_sensor, y_star = y_star, gama = gama)\n",
    "#print(\"********************\")\n",
    "#my_theta_hat = kernelABC.calc_theta_hat()\n",
    "#print(\"theta_hat: \", my_theta_hat)\n",
    "#print(\"theta_star:\", theta_star)\n",
    "\n",
    "\n",
    "# Only uncomment if you want to summarize EVERYTHING into a single value\n",
    "# WARNING: this gives close to no insight on the actual performance of your model!\n",
    "#theta_distance = np.linalg.norm(theta_star - my_theta_hat)\n",
    "# print(\"theta distance: \", theta_distance)\n",
    "\n",
    "## Print to CSV ##\n",
    "#result_row = [my_theta_hat[0], my_theta_hat[1], my_theta_hat[2], my_theta_hat[3], theta_distance, kernelABC.GaMa, lambda_param, np.sum(kernelABC.w)]\n",
    "#write_csv(result_row)"
   ]
  },
  {
   "cell_type": "code",
   "execution_count": 59,
   "metadata": {},
   "outputs": [],
   "source": [
    "y_star = y[0]\n",
    "y_c = y.copy()\n",
    "y_sensor = np.delete(y_c, 0, axis=0)\n",
    "\n",
    "theta_star = theta[0]\n",
    "theta_c = theta.copy()\n",
    "theta_sensor = np.delete(theta_c, 0, axis=0)\n",
    "        \n",
    "kernelABC = kernel_ABC(lambda_ = 0.001, theta = theta_sensor, y = y_sensor, y_star = y_star, gamma = 1000000)\n",
    "my_theta_hat = kernelABC.calc_theta_hat()"
   ]
  },
  {
   "cell_type": "code",
   "execution_count": 60,
   "metadata": {},
   "outputs": [
    {
     "name": "stdout",
     "output_type": "stream",
     "text": [
      "[34.48221039  3.60824229  5.86979145  5.67932473]\n",
      "[25.   2.5  2.6  4.5]\n"
     ]
    }
   ],
   "source": [
    "print(my_theta_hat)\n",
    "print(theta_star)"
   ]
  },
  {
   "cell_type": "code",
   "execution_count": 61,
   "metadata": {},
   "outputs": [
    {
     "data": {
      "text/plain": [
       "10.159865047648378"
      ]
     },
     "execution_count": 61,
     "metadata": {},
     "output_type": "execute_result"
    }
   ],
   "source": [
    "np.linalg.norm(theta_star - my_theta_hat)"
   ]
  },
  {
   "cell_type": "code",
   "execution_count": null,
   "metadata": {},
   "outputs": [],
   "source": []
  },
  {
   "cell_type": "code",
   "execution_count": 62,
   "metadata": {},
   "outputs": [],
   "source": [
    "lambda_ = [10**(-i) for i in range(1, 15)]\n",
    "gamma = [10**i for i in range(1, 15)]\n",
    "dist = np.zeros((len(lambda_),len(gamma)))\n",
    "for l in range(len(lambda_)):\n",
    "    for g in range(len(gamma)):\n",
    "        dist[l][g] = cross_validation(lambda_[l], gamma[g])"
   ]
  },
  {
   "cell_type": "code",
   "execution_count": 63,
   "metadata": {},
   "outputs": [
    {
     "name": "stdout",
     "output_type": "stream",
     "text": [
      "[[  25.21374406   14.28344207    8.76390684    7.89749428    8.88136541\n",
      "     9.03679696    9.0524708     9.05403911    9.05419595    9.05421164\n",
      "     9.05421321    9.05421336    9.05421338    9.05421338]\n",
      " [  22.32538634   10.44470633    7.02496686    5.64444325    8.55303976\n",
      "     9.08004156    9.14841034    9.15560369    9.15632701    9.15639939\n",
      "     9.15640662    9.15640735    9.15640742    9.15640743]\n",
      " [  21.87235582   11.05829635    7.60797525    5.34644343    7.08044319\n",
      "     8.73674001    9.1213363     9.1790789     9.18528152    9.18590657\n",
      "     9.18596912    9.18597538    9.185976      9.18597606]\n",
      " [  21.82500311   13.2750933     9.15805991    7.03450911    6.10641812\n",
      "     7.26197934    8.75577019    9.12569873    9.18237388    9.18847727\n",
      "     9.18909247    9.18915404    9.1891602     9.18916081]\n",
      " [  21.82024792   13.95297615   11.08633982    9.90913131    7.49920377\n",
      "     6.21282226    7.28056471    8.75767983    9.12613734    9.18270571\n",
      "     9.18879917    9.18941339    9.18947486    9.189481  ]\n",
      " [  21.8197722    14.03404816   19.0343369    19.9103178     8.40808035\n",
      "     7.67216118    6.22380384    7.28242763    8.75787086    9.12618122\n",
      "     9.18273891    9.18883138    9.1894455     9.18950696]\n",
      " [  21.81972463   14.04231567   30.42841032   85.96947595   11.64192057\n",
      "     8.151012      7.69441317    6.22490547    7.28261397    8.75788997\n",
      "     9.12618561    9.18274223    9.1888346     9.18944872]\n",
      " [  21.81971987   14.04314406   33.86039471  200.50049735   19.89977007\n",
      "     8.59317314    8.22853142    7.69670131    6.22501567    7.28263259\n",
      "     8.75789188    9.12618604    9.18274261    9.1888349 ]\n",
      " [  21.81971939   14.04322692   34.27375191  235.57893485   83.33247116\n",
      "    11.85262049    8.22909437    8.24074465    7.69693079    6.22502669\n",
      "     7.28263433    8.75789201    9.12618637    9.18274257]\n",
      " [  21.81971935   14.0432352    34.31593153  509.52163181  273.46675135\n",
      "    19.63630796    8.61227042    8.294598      8.24202397    7.69695283\n",
      "     6.22502835    7.28263648    8.75789426    9.12618474]\n",
      " [  21.81971934   14.04323603   34.32015811  836.79875412  369.59111187\n",
      "    62.33814136   11.87412041    8.23705912    8.30556001    8.24213492\n",
      "     7.69696537    6.22502251    7.28261343    8.75785846]\n",
      " [  21.81971934   14.04323611   34.32058085  893.66487944  339.59570609\n",
      "   170.29231604   19.60642057    8.61420618    8.30128541    8.30668278\n",
      "     8.24217268    7.69695258    6.22512291    7.28256995]\n",
      " [  21.81971934   14.04323612   34.32062312  899.75945996  722.49212712\n",
      "   337.61076832   58.80318583   11.87814841    8.23865392    8.31193594\n",
      "     8.3061965     8.24226474    7.69695228    6.22503182]\n",
      " [  21.81971934   14.04323612   34.32062735  900.37328066 1292.59049784\n",
      "   394.71887855  111.4321537    19.6086321     8.60064507    8.29650258\n",
      "     8.30353686    8.3260731     8.23994372    7.70238403]]\n"
     ]
    }
   ],
   "source": [
    "print(dist)"
   ]
  },
  {
   "cell_type": "code",
   "execution_count": 64,
   "metadata": {},
   "outputs": [
    {
     "name": "stdout",
     "output_type": "stream",
     "text": [
      "0.001 10000\n"
     ]
    }
   ],
   "source": [
    "(l_min, g_min) = np.unravel_index(dist.argmin(), dist.shape)\n",
    "lambda_optimal = lambda_[l_min]\n",
    "gamma_optimal = gamma[g_min]\n",
    "print(lambda_optimal, gamma_optimal)"
   ]
  },
  {
   "cell_type": "code",
   "execution_count": 65,
   "metadata": {},
   "outputs": [
    {
     "data": {
      "image/png": "[encoded data removed]",
      "text/plain": [
       "<Figure size 432x288 with 1 Axes>"
      ]
     },
     "metadata": {
      "needs_background": "light"
     },
     "output_type": "display_data"
    }
   ],
   "source": [
    "ax = plt.imshow(dist)"
   ]
  },
  {
   "cell_type": "code",
   "execution_count": null,
   "metadata": {},
   "outputs": [],
   "source": []
  },
  {
   "cell_type": "code",
   "execution_count": null,
   "metadata": {},
   "outputs": [],
   "source": [
    "lambda_ = [0.001*i for i in range(1, 100)]\n",
    "gamma = [10000*i for i in range(1, 100)]\n",
    "dist = np.zeros((len(lambda_),len(gamma)))\n",
    "for l in range(len(lambda_)):\n",
    "    for g in range(len(gamma)):\n",
    "        dist[l][g] = cross_validation(lambda_[l], gamma[g])"
   ]
  },
  {
   "cell_type": "code",
   "execution_count": null,
   "metadata": {},
   "outputs": [],
   "source": [
    "(l_min, g_min) = np.unravel_index(dist.argmin(), dist.shape)\n",
    "lambda_optimal = lambda_[l_min]\n",
    "gamma_optimal = gamma[g_min]\n",
    "print(lambda_optimal, gamma_optimal)"
   ]
  },
  {
   "cell_type": "code",
   "execution_count": null,
   "metadata": {},
   "outputs": [],
   "source": [
    "print(dist)"
   ]
  },
  {
   "cell_type": "code",
   "execution_count": null,
   "metadata": {},
   "outputs": [],
   "source": [
    "ax = plt.imshow(dist)"
   ]
  },
  {
   "cell_type": "code",
   "execution_count": null,
   "metadata": {},
   "outputs": [],
   "source": []
  },
  {
   "cell_type": "code",
   "execution_count": null,
   "metadata": {},
   "outputs": [],
   "source": []
  },
  {
   "cell_type": "code",
   "execution_count": null,
   "metadata": {},
   "outputs": [],
   "source": []
  }
 ],
 "metadata": {
  "kernelspec": {
   "display_name": "Python 3",
   "language": "python",
   "name": "python3"
  },
  "language_info": {
   "codemirror_mode": {
    "name": "ipython",
    "version": 3
   },
   "file_extension": ".py",
   "mimetype": "text/x-python",
   "name": "python",
   "nbconvert_exporter": "python",
   "pygments_lexer": "ipython3",
   "version": "3.8.2"
  }
 },
 "nbformat": 4,
 "nbformat_minor": 4
}
